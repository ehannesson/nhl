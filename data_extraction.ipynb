{
 "cells": [
  {
   "cell_type": "markdown",
   "metadata": {},
   "source": [
    "# Data Extraction"
   ]
  },
  {
   "cell_type": "code",
   "execution_count": 1,
   "metadata": {},
   "outputs": [],
   "source": [
    "import numpy as np\n",
    "import pandas as pd\n",
    "import requests\n",
    "import os\n",
    "import json\n",
    "from progressbar import progressbar as progbar\n",
    "\n",
    "os.chdir(\"nhl/\")\n",
    "\n",
    "import nhl\n",
    "from nhl.team import Team\n",
    "from nhl.game import Game\n",
    "\n",
    "os.chdir(\"..\")\n",
    "\n",
    "base_url='https://statsapi.web.nhl.com/api/v1'"
   ]
  },
  {
   "cell_type": "markdown",
   "metadata": {},
   "source": [
    "## Collect All Game IDs For a Given Season\n",
    "This will take like 20 seconds"
   ]
  },
  {
   "cell_type": "code",
   "execution_count": 2,
   "metadata": {},
   "outputs": [],
   "source": [
    "# set these variables to filter query\n",
    "season = None           # what season to query - None defaults to current\n",
    "include_pre = False     # whether to include preseason games\n",
    "include_post = False    # whether to include postseason games\n",
    "include_future = False  # whether to include unplayed games\n",
    "\n",
    "team_ids = nhl.api.getTeamIDs()\n",
    "game_ids = set()\n",
    "for team in list(team_ids.values()):\n",
    "    ids = nhl.api.getGameIDs(team, season=season, include_pre=include_pre,\n",
    "                             include_post=include_post, include_future=include_future)\n",
    "    game_ids.update(ids)"
   ]
  },
  {
   "cell_type": "markdown",
   "metadata": {},
   "source": [
    "## Collect All Live Game Data For Every Team\n",
    "This will take a handful of minutes"
   ]
  },
  {
   "cell_type": "code",
   "execution_count": 3,
   "metadata": {},
   "outputs": [
    {
     "name": "stderr",
     "output_type": "stream",
     "text": [
      "100% (1082 of 1082) |####################| Elapsed Time: 0:06:15 Time:  0:06:15\n"
     ]
    }
   ],
   "source": [
    "hits = []\n",
    "penalties = []\n",
    "shots = []\n",
    "turnovers = []\n",
    "agg_stats = []\n",
    "\n",
    "for id_ in progbar(game_ids):\n",
    "    # create a game object for the given game\n",
    "    game = Game(id_)\n",
    "    # extract game data\n",
    "    game.makeDataFrames()\n",
    "    \n",
    "    hits.append(game.hit_data)\n",
    "    penalties.append(game.penalty_data)\n",
    "    shots.append(game.shot_data)\n",
    "    turnovers.append(game.turnover_data)\n",
    "    \n",
    "    agg_stats.append(game.agg_stats)\n",
    "        \n",
    "hits_df = pd.concat(hits)\n",
    "penalties_df = pd.concat(penalties)\n",
    "shots_df = pd.concat(shots)\n",
    "turnovers_df = pd.concat(turnovers)\n",
    "game_stats = pd.concat(agg_stats)"
   ]
  },
  {
   "cell_type": "code",
   "execution_count": 3,
   "metadata": {},
   "outputs": [
    {
     "name": "stderr",
     "output_type": "stream",
     "text": [
      "100% (1082 of 1082) |####################| Elapsed Time: 0:05:46 Time:  0:05:46\n"
     ]
    }
   ],
   "source": [
    "agg_stats = []\n",
    "for id_ in progbar(game_ids):\n",
    "    # create a game object for the given game\n",
    "    game = Game(id_)\n",
    "    agg_stats.append(game.agg_stats)\n",
    "    \n",
    "game_stats = pd.concat(agg_stats)"
   ]
  },
  {
   "cell_type": "markdown",
   "metadata": {},
   "source": [
    "## Save \"Raw\" Data\n",
    "This will take a handful of seconds"
   ]
  },
  {
   "cell_type": "code",
   "execution_count": 4,
   "metadata": {},
   "outputs": [],
   "source": [
    "hits_df.to_csv('data/all_hits.csv')\n",
    "penalties_df.to_csv('data/all_penalties.csv')\n",
    "shots_df.to_csv('data/all_shots.csv')\n",
    "turnovers_df.to_csv('data/all_turnovers.csv')"
   ]
  },
  {
   "cell_type": "markdown",
   "metadata": {},
   "source": [
    "## Filter and Save by Team"
   ]
  },
  {
   "cell_type": "code",
   "execution_count": 4,
   "metadata": {},
   "outputs": [],
   "source": [
    "team_codes = {'ANA', 'ARI', 'BOS', 'BUF', 'CAR', 'CBJ', 'CGY', \n",
    "              'CHI', 'COL', 'DAL', 'DET', 'EDM', 'FLA', 'LAK', \n",
    "              'MIN', 'MTL', 'NJD', 'NSH', 'NYI', 'NYR', 'OTT',\n",
    "              'PHI', 'PIT', 'SJS', 'STL', 'TBL', 'TOR', 'VAN', \n",
    "              'VGK', 'WPG', 'WSH'}"
   ]
  },
  {
   "cell_type": "code",
   "execution_count": 5,
   "metadata": {},
   "outputs": [],
   "source": [
    "for team in team_codes:\n",
    "    game_stats[game_stats.team==team].to_csv(f'data/by_team/{team}/{team}_game_time-series.csv')"
   ]
  },
  {
   "cell_type": "code",
   "execution_count": 6,
   "metadata": {},
   "outputs": [],
   "source": [
    "for team in team_codes:\n",
    "    hits_inds =  (hits_df.home_team==team) | (hits_df.away_team==team)\n",
    "    penalties_inds =  (penalties_df.home_team==team) | (penalties_df.away_team==team)\n",
    "    shots_inds =  (shots_df.home_team==team) | (shots_df.away_team==team)\n",
    "    turnovers_inds =  (turnovers_df.home_team==team) | (turnovers_df.away_team==team)\n",
    "    \n",
    "    team_hits = hits_df[hits_inds]\n",
    "    team_penalties = penalties_df[penalties_inds]\n",
    "    team_shots = shots_df[shots_inds]\n",
    "    team_turnovers = turnovers_df[turnovers_inds]\n",
    "    \n",
    "    game_stats[game_stats.team==team].to_csv(f'data/by_team/{team}/{team}_game_time-series.csv')\n",
    "    \n",
    "    team_hits.to_csv(f'data/by_team/{team}/{team}_hits.csv')\n",
    "    team_penalties.to_csv(f'data/by_team/{team}/{team}_penalties.csv')\n",
    "    team_shots.to_csv(f'data/by_team/{team}/{team}_shots.csv')\n",
    "    team_turnovers.to_csv(f'data/by_team/{team}/{team}_turnovers.csv')"
   ]
  },
  {
   "cell_type": "code",
   "execution_count": null,
   "metadata": {},
   "outputs": [],
   "source": []
  }
 ],
 "metadata": {
  "kernelspec": {
   "display_name": "Python 3",
   "language": "python",
   "name": "python3"
  },
  "language_info": {
   "codemirror_mode": {
    "name": "ipython",
    "version": 3
   },
   "file_extension": ".py",
   "mimetype": "text/x-python",
   "name": "python",
   "nbconvert_exporter": "python",
   "pygments_lexer": "ipython3",
   "version": "3.7.6"
  }
 },
 "nbformat": 4,
 "nbformat_minor": 4
}
